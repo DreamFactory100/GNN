{
  "nbformat": 4,
  "nbformat_minor": 0,
  "metadata": {
    "colab": {
      "private_outputs": true,
      "provenance": [],
      "include_colab_link": true
    },
    "kernelspec": {
      "name": "python3",
      "display_name": "Python 3"
    },
    "language_info": {
      "name": "python"
    },
    "gpuClass": "standard"
  },
  "cells": [
    {
      "cell_type": "markdown",
      "metadata": {
        "id": "view-in-github",
        "colab_type": "text"
      },
      "source": [
        "<a href=\"https://colab.research.google.com/github/DreamFactory100/GNN/blob/main/GraphData_Handling.ipynb\" target=\"_parent\"><img src=\"https://colab.research.google.com/assets/colab-badge.svg\" alt=\"Open In Colab\"/></a>"
      ]
    },
    {
      "cell_type": "code",
      "execution_count": null,
      "metadata": {
        "id": "kMpdxTKLc89_"
      },
      "outputs": [],
      "source": [
        "# 그래프 데이터 다루기\n",
        "# Link : https://pytorch-geometric.readthedocs.io/en/latest/get_started/introduction.html\n",
        "\n",
        "# 라이브러리 설치\n",
        "!pip install -q git+https://github.com/pyg-team/pytorch_geometric.git"
      ]
    },
    {
      "cell_type": "code",
      "source": [
        "# 그래프 데이터의 특징(feature)\n",
        "#\n",
        "# data.x:          노드 피처 매트릭스 [num_nodes, num_node_features]\n",
        "# data.edge_index: 그래프 연결성. COO(COOrdinate) 포맷 [2, num_edges], torch.long 타입\n",
        "# data.edge_attr:  엣지 피터 매트릭스 [num_edges, num_edge_features]\n",
        "# data.y:          훈련 목표(Target) - 노드 [num_nodes, *], 그래프 [1, *]\n",
        "# data.pos:        노드 위치 매트릭스 [num_nodes, num_dimensions]\n",
        "\n",
        "import torch\n",
        "from torch_geometric.data import Data"
      ],
      "metadata": {
        "id": "XoDQBEQafQIt"
      },
      "execution_count": null,
      "outputs": []
    },
    {
      "cell_type": "markdown",
      "source": [
        "![image.png](data:image/png;base64,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)"
      ],
      "metadata": {
        "id": "dF9EpFTygHqk"
      }
    },
    {
      "cell_type": "code",
      "source": [
        "# 그래프 데이터 생성\n",
        "# 입력 : [ [ 소스 노드 ],  [ 타켓 노드 ]]\n",
        "#\n",
        "edge_index = torch.tensor([[0, 1, 1, 2],\n",
        "                           [1, 0, 2, 1]], dtype=torch.long)\n",
        "x = torch.tensor([[-1], [0], [1]], dtype=torch.float)\n",
        "\n",
        "data = Data(x=x, edge_index=edge_index)\n",
        "print(\"data == \", data)\n",
        "print(\"data.x == \", data.x)   # 해당 노드의 feature\n",
        "print(\"data.y == \", data.y)   # 타겟.  아직 지정되지 않음"
      ],
      "metadata": {
        "id": "Skp267MPfGAD"
      },
      "execution_count": null,
      "outputs": []
    },
    {
      "cell_type": "code",
      "source": [
        "# 엣지가 연결쌍일 경우,\n",
        "# 입력을 변형한다.\n",
        "# \n",
        "\n",
        "# edge_index = torch.tensor([[0, 1],\n",
        "#                            [1, 0],\n",
        "#                            [1, 2],\n",
        "#                            [2, 1], [3,1]], dtype=torch.long)\n",
        "# x = torch.tensor([[-1, 1], [0, 1], [1,2], [1,1]], dtype=torch.float)\n",
        "\n",
        "edge_index = torch.tensor([[0, 1],\n",
        "                           [1, 0],\n",
        "                           [1, 2],\n",
        "                           [2, 1],\n",
        "                           ], dtype=torch.long)\n",
        "x = torch.tensor([[-1 ], [0 ], [1 ] ], dtype=torch.float)\n",
        "\n",
        "# print(\"edge_index.t() == \", edge_index.t() )\n",
        "# print(\"edge_index.t().contiguous() == \", edge_index.t().contiguous() )\n",
        "\n",
        "data = Data(x=x, edge_index=edge_index.t())\n",
        "print(\"data == \", data)\n",
        "print(\"data.x == \", data.x)\n",
        "print(\"data.y == \", data.y)"
      ],
      "metadata": {
        "id": "RF8AhQ_bg4aL"
      },
      "execution_count": null,
      "outputs": []
    },
    {
      "cell_type": "code",
      "source": [
        "# 그래프 데이터의 유효성 검사\n",
        "#\n",
        "data.validate(raise_on_error=True)"
      ],
      "metadata": {
        "id": "TDGzFiEljD_Z"
      },
      "execution_count": null,
      "outputs": []
    },
    {
      "cell_type": "code",
      "source": [
        "# 그래프 데이터 살펴보기\n",
        "print(data.keys)"
      ],
      "metadata": {
        "id": "aPEKoJ5CjdKF"
      },
      "execution_count": null,
      "outputs": []
    },
    {
      "cell_type": "code",
      "source": [
        "print(data['x'])"
      ],
      "metadata": {
        "id": "GLCzc-X1kXPG"
      },
      "execution_count": null,
      "outputs": []
    },
    {
      "cell_type": "code",
      "source": [
        "for key, item in data:\n",
        "    print( key , \" == \", item)"
      ],
      "metadata": {
        "id": "R1OYk768katQ"
      },
      "execution_count": null,
      "outputs": []
    },
    {
      "cell_type": "code",
      "source": [
        "print(\"egge_attr == \", data.edge_attr)\n",
        "print(\"data.num_nodes == \", data.num_nodes)\n",
        "print(\"data.num_edges == \", data.num_edges)\n",
        "print(\"data.num_features == \", data.num_features)\n",
        "print(\"data.has_isolated_nodes() == \", data.has_isolated_nodes())\n",
        "print(\"data.has_self_loops() == \" , data.has_self_loops())\n",
        "print(\"data.is_directed() == \", data.is_directed())\n",
        "print(\"data.is_cuda == \", data.is_cuda)                # 데이터 처리에 GPU 사용 여부"
      ],
      "metadata": {
        "id": "l4vp5xy9kd_z"
      },
      "execution_count": null,
      "outputs": []
    },
    {
      "cell_type": "code",
      "source": [
        "# GPU 계산을 위한 변환\n",
        "# Transfer data object to GPU.\n",
        "#\n",
        "device = torch.device('cuda')\n",
        "data = data.to(device)\n",
        "\n",
        "print(\"data.is_cuda == \", data.is_cuda)"
      ],
      "metadata": {
        "id": "6ILJbQO_k8AU"
      },
      "execution_count": null,
      "outputs": []
    },
    {
      "cell_type": "code",
      "source": [],
      "metadata": {
        "id": "MDVhppxylvgk"
      },
      "execution_count": null,
      "outputs": []
    }
  ]
}