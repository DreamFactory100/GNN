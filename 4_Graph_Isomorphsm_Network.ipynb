{
  "nbformat": 4,
  "nbformat_minor": 0,
  "metadata": {
    "colab": {
      "private_outputs": true,
      "provenance": [],
      "include_colab_link": true
    },
    "kernelspec": {
      "name": "python3",
      "display_name": "Python 3"
    },
    "language_info": {
      "name": "python"
    },
    "accelerator": "GPU",
    "gpuClass": "standard"
  },
  "cells": [
    {
      "cell_type": "markdown",
      "metadata": {
        "id": "view-in-github",
        "colab_type": "text"
      },
      "source": [
        "<a href=\"https://colab.research.google.com/github/DreamFactory100/GNN/blob/main/4_Graph_Isomorphsm_Network.ipynb\" target=\"_parent\"><img src=\"https://colab.research.google.com/assets/colab-badge.svg\" alt=\"Open In Colab\"/></a>"
      ]
    },
    {
      "cell_type": "code",
      "execution_count": null,
      "metadata": {
        "id": "CKy8gk9ThVnY"
      },
      "outputs": [],
      "source": [
        "# 연관 패키지 설치\n",
        "\n",
        "\n",
        "!pip install -q torch-scatter -f https://data.pyg.org/whl/torch-{torch.__version__}.html\n",
        "!pip install -q torch-sparse -f https://data.pyg.org/whl/torch-{torch.__version__}.html\n",
        "!pip install -q git+https://github.com/pyg-team/pytorch_geometric.git"
      ]
    },
    {
      "cell_type": "code",
      "source": [
        "# 연관 라이브러리 import\n",
        "\n",
        "import torch\n",
        "# Visualization\n",
        "import networkx as nx\n",
        "import matplotlib.pyplot as plt\n",
        "plt.rcParams['figure.dpi'] = 300\n",
        "plt.rcParams.update({'font.size': 24})"
      ],
      "metadata": {
        "id": "f0I_mE9ehqjj"
      },
      "execution_count": null,
      "outputs": []
    },
    {
      "cell_type": "markdown",
      "source": [
        "Protein 데이터셋\n",
        "\n",
        "1113 개의 단백질 그래프\n",
        "각 노드는 아미노산\n",
        "노드 간의 거리가 < 0.6 (nm) 이하일 경우, 에지 구성\n",
        "\n",
        "각 단백질 그래프가 효소(emzyme)인지를 판별"
      ],
      "metadata": {
        "id": "l1A2tMgzhzWU"
      }
    },
    {
      "cell_type": "code",
      "source": [
        "from torch_geometric.datasets import TUDataset\n",
        "\n",
        "dataset = TUDataset(root='.', name='PROTEINS').shuffle()\n",
        "\n",
        "# Print information about the dataset\n",
        "print(f'Dataset: {dataset}')\n",
        "print('-------------------')\n",
        "print(f'Number of graphs: {len(dataset)}')\n",
        "print(f'Number of features: {dataset.num_features}')\n",
        "print(f'Number of classes: {dataset.num_classes}')\n",
        "\n",
        "# n_node = 1\n",
        "# print(n_node, f'번 그래프의 입력 노드 shape :  {dataset[n_node].x.shape}')\n",
        "# # print(\"num_node_features == \", dataset.num_node_features )\n",
        "# print(n_node, \"번 그래프 노드 featrure == \", dataset[n_node].x)\n",
        "# print(n_node , \"번 그래프 엣지 == \", dataset[n_node].edge_index)"
      ],
      "metadata": {
        "id": "UY__DKuphvXy"
      },
      "execution_count": null,
      "outputs": []
    },
    {
      "cell_type": "code",
      "source": [
        "# 단백질 1개의 구조를 살펴보자.\n",
        "\n",
        "from torch_geometric.utils import to_networkx\n",
        "from mpl_toolkits.mplot3d import Axes3D\n",
        "import numpy as np\n",
        "\n",
        "G = to_networkx(dataset[2], to_undirected=True)\n",
        "\n",
        "# 3D spring layout\n",
        "pos = nx.spring_layout(G, dim=3, seed=0)\n",
        "\n",
        "# Extract node and edge positions from the layout\n",
        "node_xyz = np.array([pos[v] for v in sorted(G)])\n",
        "edge_xyz = np.array([(pos[u], pos[v]) for u, v in G.edges()])\n",
        "\n",
        "# Create the 3D figure\n",
        "fig = plt.figure(figsize=(8,8))\n",
        "ax = fig.add_subplot(111, projection=\"3d\")\n",
        "\n",
        "# Suppress tick labels\n",
        "for dim in (ax.xaxis, ax.yaxis, ax.zaxis):\n",
        "    dim.set_ticks([])\n",
        "\n",
        "# Plot the nodes - alpha is scaled by \"depth\" automatically\n",
        "ax.scatter(*node_xyz.T, s=500, c=\"#0A047A\")\n",
        "\n",
        "# Plot the edges\n",
        "for vizedge in edge_xyz:\n",
        "    ax.plot(*vizedge.T, color=\"tab:gray\")\n",
        "\n",
        "# fig.tight_layout()\n",
        "plt.show()"
      ],
      "metadata": {
        "id": "54QxMMF5ikIO"
      },
      "execution_count": null,
      "outputs": []
    },
    {
      "cell_type": "code",
      "source": [
        "from torch_geometric.loader import DataLoader\n",
        "\n",
        "# Create training, validation, and test sets\n",
        "train_dataset = dataset[:int(len(dataset)*0.8)]\n",
        "val_dataset   = dataset[int(len(dataset)*0.8):int(len(dataset)*0.9)]\n",
        "test_dataset  = dataset[int(len(dataset)*0.9):]\n",
        "\n",
        "print(f'Training set   = {len(train_dataset)} graphs')\n",
        "print(f'Validation set = {len(val_dataset)} graphs')\n",
        "print(f'Test set       = {len(test_dataset)} graphs')\n",
        "\n",
        "# Create mini-batches\n",
        "train_loader = DataLoader(train_dataset, batch_size=64, shuffle=True)\n",
        "val_loader = DataLoader(val_dataset, batch_size=64, shuffle=True)\n",
        "test_loader = DataLoader(test_dataset, batch_size=64, shuffle=False)\n",
        "\n",
        "print('\\nTrain loader:')\n",
        "for i, subgraph in enumerate(train_loader):\n",
        "    print(f' - Subgraph {i}: {subgraph}')\n",
        "\n",
        "print('\\nValidation loader:')\n",
        "for i, subgraph in enumerate(val_loader):\n",
        "    print(f' - Subgraph {i}: {subgraph}')\n",
        "\n",
        "print('\\nTest loader:')\n",
        "for i, subgraph in enumerate(test_loader):\n",
        "    print(f' - Subgraph {i}: {subgraph}')"
      ],
      "metadata": {
        "id": "E2MO20fgjWLE"
      },
      "execution_count": null,
      "outputs": []
    },
    {
      "cell_type": "code",
      "source": [
        "import torch\n",
        "import torch.nn.functional as F\n",
        "from torch.nn import Linear, Sequential, BatchNorm1d, ReLU, Dropout\n",
        "from torch_geometric.nn import GCNConv, GINConv\n",
        "from torch_geometric.nn import global_mean_pool, global_add_pool\n",
        "\n",
        "\n",
        "class GCN(torch.nn.Module):\n",
        "    \"\"\"GCN\"\"\"\n",
        "    def __init__(self, dim_h):\n",
        "        super(GCN, self).__init__()\n",
        "        self.conv1 = GCNConv(dataset.num_node_features, dim_h)\n",
        "        self.conv2 = GCNConv(dim_h, dim_h)\n",
        "        self.conv3 = GCNConv(dim_h, dim_h)\n",
        "        self.lin = Linear(dim_h, dataset.num_classes)\n",
        "\n",
        "    def forward(self, x, edge_index, batch):\n",
        "        # Node embeddings \n",
        "        h = self.conv1(x, edge_index)\n",
        "        h = h.relu()\n",
        "        h = self.conv2(h, edge_index)\n",
        "        h = h.relu()\n",
        "        h = self.conv3(h, edge_index)\n",
        "\n",
        "        # Graph-level readout\n",
        "        hG = global_mean_pool(h, batch)\n",
        "\n",
        "        # Classifier\n",
        "        h = F.dropout(hG, p=0.5, training=self.training)\n",
        "        h = self.lin(h)\n",
        "        \n",
        "        return hG, F.log_softmax(h, dim=1)\n",
        "\n",
        "class GIN(torch.nn.Module):\n",
        "    \"\"\"GIN\"\"\"\n",
        "    def __init__(self, dim_h):\n",
        "        super(GIN, self).__init__()\n",
        "        self.conv1 = GINConv(\n",
        "            Sequential(Linear(dataset.num_node_features, dim_h),\n",
        "                       BatchNorm1d(dim_h), ReLU(),\n",
        "                       Linear(dim_h, dim_h), ReLU()))\n",
        "        self.conv2 = GINConv(\n",
        "            Sequential(Linear(dim_h, dim_h), BatchNorm1d(dim_h), ReLU(),\n",
        "                       Linear(dim_h, dim_h), ReLU()))\n",
        "        self.conv3 = GINConv(\n",
        "            Sequential(Linear(dim_h, dim_h), BatchNorm1d(dim_h), ReLU(),\n",
        "                       Linear(dim_h, dim_h), ReLU()))\n",
        "        self.lin1 = Linear(dim_h*3, dim_h*3)\n",
        "        self.lin2 = Linear(dim_h*3, dataset.num_classes)\n",
        "\n",
        "    def forward(self, x, edge_index, batch):\n",
        "        # Node embeddings \n",
        "        h1 = self.conv1(x, edge_index)\n",
        "        h2 = self.conv2(h1, edge_index)\n",
        "        h3 = self.conv3(h2, edge_index)\n",
        "\n",
        "        # Graph-level readout\n",
        "        h1 = global_add_pool(h1, batch)\n",
        "        h2 = global_add_pool(h2, batch)\n",
        "        h3 = global_add_pool(h3, batch)\n",
        "\n",
        "        # Concatenate graph embeddings\n",
        "        h = torch.cat((h1, h2, h3), dim=1)\n",
        "\n",
        "        # Classifier\n",
        "        h = self.lin1(h)\n",
        "        h = h.relu()\n",
        "        h = F.dropout(h, p=0.5, training=self.training)\n",
        "        h = self.lin2(h)\n",
        "        \n",
        "        return h, F.log_softmax(h, dim=1)\n",
        "\n",
        "gcn = GCN(dim_h=32)\n",
        "gin = GIN(dim_h=32)"
      ],
      "metadata": {
        "id": "N_fOXufEklT5"
      },
      "execution_count": null,
      "outputs": []
    },
    {
      "cell_type": "code",
      "source": [
        "def train(model, loader):\n",
        "    criterion = torch.nn.CrossEntropyLoss()\n",
        "    optimizer = torch.optim.Adam(model.parameters(),\n",
        "                                      lr=0.01,\n",
        "                                      weight_decay=0.01)\n",
        "    epochs = 100\n",
        "\n",
        "    model.train()\n",
        "    for epoch in range(epochs+1):\n",
        "        total_loss = 0\n",
        "        acc = 0\n",
        "        val_loss = 0\n",
        "        val_acc = 0\n",
        "\n",
        "        # Train on batches\n",
        "        for data in loader:\n",
        "          optimizer.zero_grad()\n",
        "          _, out = model(data.x, data.edge_index, data.batch)\n",
        "          loss = criterion(out, data.y)\n",
        "          total_loss += loss / len(loader)\n",
        "          acc += accuracy(out.argmax(dim=1), data.y) / len(loader)\n",
        "          loss.backward()\n",
        "          optimizer.step()\n",
        "\n",
        "          # Validation\n",
        "          val_loss, val_acc = test(model, val_loader)\n",
        "\n",
        "    # Print metrics every 10 epochs\n",
        "    if(epoch % 10 == 0):\n",
        "        print(f'Epoch {epoch:>3} | Train Loss: {total_loss:.2f} '\n",
        "              f'| Train Acc: {acc*100:>5.2f}% '\n",
        "              f'| Val Loss: {val_loss:.2f} '\n",
        "              f'| Val Acc: {val_acc*100:.2f}%')\n",
        "          \n",
        "    test_loss, test_acc = test(model, test_loader)\n",
        "    print(f'Test Loss: {test_loss:.2f} | Test Acc: {test_acc*100:.2f}%')\n",
        "    \n",
        "    return model\n",
        "\n",
        "@torch.no_grad()\n",
        "def test(model, loader):\n",
        "    criterion = torch.nn.CrossEntropyLoss()\n",
        "    model.eval()\n",
        "    loss = 0\n",
        "    acc = 0\n",
        "\n",
        "    for data in loader:\n",
        "        _, out = model(data.x, data.edge_index, data.batch)\n",
        "        loss += criterion(out, data.y) / len(loader)\n",
        "        acc += accuracy(out.argmax(dim=1), data.y) / len(loader)\n",
        "\n",
        "    return loss, acc\n",
        "\n",
        "def accuracy(pred_y, y):\n",
        "    \"\"\"Calculate accuracy.\"\"\"\n",
        "    return ((pred_y == y).sum() / len(y)).item()\n",
        "\n",
        "gcn = train(gcn, train_loader)\n",
        "gin = train(gin, train_loader)"
      ],
      "metadata": {
        "id": "nIfSeFYOpC6o"
      },
      "execution_count": null,
      "outputs": []
    },
    {
      "cell_type": "code",
      "source": [
        "fig, ax = plt.subplots(4, 4, figsize=(16,16))\n",
        "fig.suptitle('GCN - Graph classification')\n",
        "\n",
        "for i, data in enumerate(dataset[1113-16:]):\n",
        "    # Calculate color (green if correct, red otherwise)\n",
        "    _, out = gcn(data.x, data.edge_index, data.batch)\n",
        "    color = \"green\" if out.argmax(dim=1) == data.y else \"red\"\n",
        "\n",
        "    # Plot graph\n",
        "    ix = np.unravel_index(i, ax.shape)\n",
        "    ax[ix].axis('off')\n",
        "    G = to_networkx(dataset[i], to_undirected=True)\n",
        "    nx.draw_networkx(G,\n",
        "                    pos=nx.spring_layout(G, seed=0),\n",
        "                    with_labels=False,\n",
        "                    node_size=150,\n",
        "                    node_color=color,\n",
        "                    width=0.8,\n",
        "                    ax=ax[ix]\n",
        "                    )"
      ],
      "metadata": {
        "id": "ocE11VugpKuJ"
      },
      "execution_count": null,
      "outputs": []
    },
    {
      "cell_type": "code",
      "source": [
        "fig, ax = plt.subplots(4, 4, figsize=(16,16))\n",
        "fig.suptitle('GIN - Graph classification')\n",
        "\n",
        "for i, data in enumerate(dataset[1113-16:]):\n",
        "    # Calculate color (green if correct, red otherwise)\n",
        "    _, out = gin(data.x, data.edge_index, data.batch)\n",
        "    color = \"green\" if out.argmax(dim=1) == data.y else \"red\"\n",
        "\n",
        "    # Plot graph\n",
        "    ix = np.unravel_index(i, ax.shape)\n",
        "    ax[ix].axis('off')\n",
        "    G = to_networkx(dataset[i], to_undirected=True)\n",
        "    nx.draw_networkx(G,\n",
        "                    pos=nx.spring_layout(G, seed=0),\n",
        "                    with_labels=False,\n",
        "                    node_size=150,\n",
        "                    node_color=color,\n",
        "                    width=0.8,\n",
        "                    ax=ax[ix]\n",
        "                    )"
      ],
      "metadata": {
        "id": "EyX5I2YRpbMA"
      },
      "execution_count": null,
      "outputs": []
    },
    {
      "cell_type": "code",
      "source": [
        "# 앙상블 모델\n",
        "\n",
        "gcn.eval()\n",
        "gin.eval()\n",
        "acc_gcn = 0\n",
        "acc_gin = 0\n",
        "acc = 0\n",
        "\n",
        "for data in test_loader:\n",
        "    # Get classifications\n",
        "    _, out_gcn = gcn(data.x, data.edge_index, data.batch)\n",
        "    _, out_gin = gin(data.x, data.edge_index, data.batch)\n",
        "    out = (out_gcn + out_gin)/2\n",
        "\n",
        "    # Calculate accuracy scores\n",
        "    acc_gcn += accuracy(out_gcn.argmax(dim=1), data.y) / len(test_loader)\n",
        "    acc_gin += accuracy(out_gin.argmax(dim=1), data.y) / len(test_loader)\n",
        "    acc += accuracy(out.argmax(dim=1), data.y) / len(test_loader)\n",
        "\n",
        "# Print results\n",
        "print(f'GCN accuracy:     {acc_gcn*100:.2f}%')\n",
        "print(f'GIN accuracy:     {acc_gin*100:.2f}%')\n",
        "print(f'GCN+GIN accuracy: {acc*100:.2f}%')"
      ],
      "metadata": {
        "id": "1QwkXFJ_pfav"
      },
      "execution_count": null,
      "outputs": []
    },
    {
      "cell_type": "code",
      "source": [],
      "metadata": {
        "id": "kFUoToQKuYzj"
      },
      "execution_count": null,
      "outputs": []
    }
  ]
}