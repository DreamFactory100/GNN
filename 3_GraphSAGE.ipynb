{
  "nbformat": 4,
  "nbformat_minor": 0,
  "metadata": {
    "colab": {
      "private_outputs": true,
      "provenance": [],
      "include_colab_link": true
    },
    "kernelspec": {
      "name": "python3",
      "display_name": "Python 3"
    },
    "language_info": {
      "name": "python"
    }
  },
  "cells": [
    {
      "cell_type": "markdown",
      "metadata": {
        "id": "view-in-github",
        "colab_type": "text"
      },
      "source": [
        "<a href=\"https://colab.research.google.com/github/DreamFactory100/GNN/blob/main/3_GraphSAGE.ipynb\" target=\"_parent\"><img src=\"https://colab.research.google.com/assets/colab-badge.svg\" alt=\"Open In Colab\"/></a>"
      ]
    },
    {
      "cell_type": "code",
      "execution_count": null,
      "metadata": {
        "id": "G2X1w05KWnFS"
      },
      "outputs": [],
      "source": [
        "!pip install -q torch-scatter -f https://data.pyg.org/whl/torch-{torch.__version__}.html\n",
        "!pip install -q torch-sparse -f https://data.pyg.org/whl/torch-{torch.__version__}.html\n",
        "!pip install -q git+https://github.com/pyg-team/pytorch_geometric.git\n"
      ]
    },
    {
      "cell_type": "code",
      "source": [
        "import torch\n",
        "\n",
        "# Visualization\n",
        "import networkx as nx\n",
        "import matplotlib.pyplot as plt\n",
        "plt.rcParams['figure.dpi'] = 300\n",
        "plt.rcParams.update({'font.size': 24})"
      ],
      "metadata": {
        "id": "0fEvuG2mW8TM"
      },
      "execution_count": null,
      "outputs": []
    },
    {
      "cell_type": "markdown",
      "source": [
        "PubMed 데이터 셋\n",
        "\n",
        "\n",
        "19,717 과학 출판물\n",
        "500 차원의 TF-IDF 단어 벡터\n",
        "3개 카테고리 : 당뇨 실험, 당뇨 1형, 당뇨 2형\n"
      ],
      "metadata": {
        "id": "XSOurF1iXHdL"
      }
    },
    {
      "cell_type": "code",
      "source": [
        "# 데이터 살펴보기\n",
        "#\n",
        "\n",
        "from torch_geometric.datasets import Planetoid\n",
        "\n",
        "dataset = Planetoid(root='.', name=\"Pubmed\")\n",
        "data = dataset[0]\n",
        "\n",
        "# Print information about the dataset\n",
        "print(f'Dataset: {dataset}')\n",
        "print('-------------------')\n",
        "print(f'Number of graphs: {len(dataset)}')\n",
        "print(f'Number of nodes: {data.x.shape[0]}')\n",
        "print(f'Number of features: {dataset.num_features}')\n",
        "print(f'Number of classes: {dataset.num_classes}')\n",
        "\n",
        "# Print information about the graph\n",
        "print(f'\\nGraph:')\n",
        "print('------')\n",
        "print(f'Training nodes: {sum(data.train_mask).item()}')\n",
        "print(f'Evaluation nodes: {sum(data.val_mask).item()}')\n",
        "print(f'Test nodes: {sum(data.test_mask).item()}')\n",
        "print(f'Edges are directed: {data.is_directed()}')\n",
        "print(f'Graph has isolated nodes: {data.has_isolated_nodes()}')\n",
        "print(f'Graph has loops: {data.has_self_loops()}')"
      ],
      "metadata": {
        "id": "ACUZTh9bXDXL"
      },
      "execution_count": null,
      "outputs": []
    },
    {
      "cell_type": "markdown",
      "source": [
        "GraphSAGE ( Sampling & Aggregation )\n",
        "\n",
        "1. Neighbor SAmpling\n",
        "2. aGgrEgation"
      ],
      "metadata": {
        "id": "KegCs7b0YKDT"
      }
    },
    {
      "cell_type": "code",
      "source": [
        "from torch_geometric.loader import NeighborLoader\n",
        "from torch_geometric.utils import to_networkx\n",
        "\n",
        "# Create batches with neighbor sampling\n",
        "# 16 * 3 + 12 = 60 개 노드\n",
        "train_loader = NeighborLoader(\n",
        "    data,\n",
        "    num_neighbors=[5, 10],\n",
        "    batch_size=16,\n",
        "    input_nodes=data.train_mask,\n",
        ")\n",
        "\n",
        "# Print each subgraph\n",
        "for i, subgraph in enumerate(train_loader):\n",
        "    print(f'Subgraph {i}: {subgraph}')\n",
        "\n",
        "# Plot each subgraph\n",
        "fig = plt.figure(figsize=(16,16))\n",
        "for idx, (subdata, pos) in enumerate(zip(train_loader, [221, 222, 223, 224])):\n",
        "    G = to_networkx(subdata, to_undirected=True)\n",
        "    ax = fig.add_subplot(pos)\n",
        "    ax.set_title(f'Subgraph {idx}')\n",
        "    plt.axis('off')\n",
        "    nx.draw_networkx(G,\n",
        "                    pos=nx.spring_layout(G, seed=0),\n",
        "                    with_labels=True,\n",
        "                    node_size=200,\n",
        "                    node_color=subdata.y,\n",
        "                    cmap=\"cool\",\n",
        "                    font_size=10\n",
        "                    )\n",
        "plt.show()"
      ],
      "metadata": {
        "id": "gQ8ny_ZNX-xD"
      },
      "execution_count": null,
      "outputs": []
    },
    {
      "cell_type": "markdown",
      "source": [],
      "metadata": {
        "id": "LEbaAo8ZfcsG"
      }
    },
    {
      "cell_type": "code",
      "source": [
        "from torch_geometric.utils import degree\n",
        "from collections import Counter\n",
        "\n",
        "def plot_degree(data):\n",
        "    # Get list of degrees for each node\n",
        "    degrees = degree(data.edge_index[0]).numpy()\n",
        "\n",
        "    # Count the number of nodes for each degree\n",
        "    numbers = Counter(degrees)\n",
        "\n",
        "    # Bar plot\n",
        "    fig, ax = plt.subplots(figsize=(14, 6))\n",
        "    ax.set_xlabel('Node degree')\n",
        "    ax.set_ylabel('Number of nodes')\n",
        "    plt.bar(numbers.keys(),\n",
        "            numbers.values(),\n",
        "            color='#0A047A')\n",
        "\n",
        "# Plot node degrees from the original graph\n",
        "plot_degree(data)\n",
        "\n",
        "# Plot node degrees from the last subgraph\n",
        "plot_degree(subdata)"
      ],
      "metadata": {
        "id": "p9FWXn2ZcNJc"
      },
      "execution_count": null,
      "outputs": []
    },
    {
      "cell_type": "markdown",
      "source": [
        "GraphSAGE\n",
        "\n",
        "![image.png](data:image/png;base64,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)"
      ],
      "metadata": {
        "id": "kmzEe28kgF3l"
      }
    },
    {
      "cell_type": "code",
      "source": [
        "# 3 가지 모델 정의\n",
        "# GCN, GAT, GraphSAGE\n",
        "#\n",
        "\n",
        "import torch\n",
        "from torch.nn import Linear, Dropout\n",
        "from torch_geometric.nn import SAGEConv, GATv2Conv, GCNConv\n",
        "import torch.nn.functional as F\n",
        "\n",
        "\n",
        "class GraphSAGE(torch.nn.Module):\n",
        "  \"\"\"GraphSAGE\"\"\"\n",
        "  def __init__(self, dim_in, dim_h, dim_out):\n",
        "    super().__init__()\n",
        "    self.sage1 = SAGEConv(dim_in, dim_h)\n",
        "    self.sage2 = SAGEConv(dim_h, dim_out)\n",
        "    self.optimizer = torch.optim.Adam(self.parameters(),\n",
        "                                      lr=0.01,\n",
        "                                      weight_decay=5e-4)\n",
        "\n",
        "  def forward(self, x, edge_index):\n",
        "    h = self.sage1(x, edge_index).relu()\n",
        "    h = F.dropout(h, p=0.5, training=self.training)\n",
        "    h = self.sage2(h, edge_index)\n",
        "    return F.log_softmax(h, dim=1)\n",
        "\n",
        "  def fit(self, data, epochs):\n",
        "    criterion = torch.nn.CrossEntropyLoss()\n",
        "    optimizer = self.optimizer\n",
        "\n",
        "    self.train()\n",
        "    for epoch in range(epochs+1):\n",
        "      total_loss = 0\n",
        "      acc = 0\n",
        "      val_loss = 0\n",
        "      val_acc = 0\n",
        "\n",
        "      # Train on batches\n",
        "      for batch in train_loader:\n",
        "        optimizer.zero_grad()\n",
        "        out = self(batch.x, batch.edge_index)\n",
        "        loss = criterion(out[batch.train_mask], batch.y[batch.train_mask])\n",
        "        total_loss += loss\n",
        "        acc += accuracy(out[batch.train_mask].argmax(dim=1), \n",
        "                        batch.y[batch.train_mask])\n",
        "        loss.backward()\n",
        "        optimizer.step()\n",
        "\n",
        "        # Validation\n",
        "        val_loss += criterion(out[batch.val_mask], batch.y[batch.val_mask])\n",
        "        val_acc += accuracy(out[batch.val_mask].argmax(dim=1), \n",
        "                            batch.y[batch.val_mask])\n",
        "\n",
        "      # Print metrics every 10 epochs\n",
        "      if(epoch % 10 == 0):\n",
        "          print(f'Epoch {epoch:>3} | Train Loss: {total_loss/len(train_loader):.3f} '\n",
        "                f'| Train Acc: {acc/len(train_loader)*100:>6.2f}% | Val Loss: '\n",
        "                f'{val_loss/len(train_loader):.2f} | Val Acc: '\n",
        "                f'{val_acc/len(train_loader)*100:.2f}%')\n",
        "\n",
        "class GAT(torch.nn.Module):\n",
        "  \"\"\"Graph Attention Network\"\"\"\n",
        "  def __init__(self, dim_in, dim_h, dim_out, heads=8):\n",
        "    super().__init__()\n",
        "    self.gat1 = GATv2Conv(dim_in, dim_h, heads=heads)\n",
        "    self.gat2 = GATv2Conv(dim_h*heads, dim_out, heads=heads)\n",
        "    self.optimizer = torch.optim.Adam(self.parameters(),\n",
        "                                      lr=0.005,\n",
        "                                      weight_decay=5e-4)\n",
        "\n",
        "  def forward(self, x, edge_index):\n",
        "    h = F.dropout(x, p=0.6, training=self.training)\n",
        "    h = self.gat1(x, edge_index)\n",
        "    h = F.elu(h)\n",
        "    h = F.dropout(h, p=0.6, training=self.training)\n",
        "    h = self.gat2(h, edge_index)\n",
        "    return F.log_softmax(h, dim=1)\n",
        "\n",
        "  def fit(self, data, epochs):\n",
        "    criterion = torch.nn.CrossEntropyLoss()\n",
        "    optimizer = self.optimizer\n",
        "\n",
        "    self.train()\n",
        "    for epoch in range(epochs+1):\n",
        "        # Training\n",
        "        optimizer.zero_grad()\n",
        "        out = self(data.x, data.edge_index)\n",
        "        loss = criterion(out[data.train_mask], data.y[data.train_mask])\n",
        "        acc = accuracy(out[data.train_mask].argmax(dim=1),\n",
        "                       data.y[data.train_mask])\n",
        "        loss.backward()\n",
        "        optimizer.step()\n",
        "\n",
        "        # Validation\n",
        "        val_loss = criterion(out[data.val_mask], data.y[data.val_mask])\n",
        "        val_acc = accuracy(out[data.val_mask].argmax(dim=1),\n",
        "                           data.y[data.val_mask])\n",
        "\n",
        "        # Print metrics every 10 epochs\n",
        "        if(epoch % 10 == 0):\n",
        "            print(f'Epoch {epoch:>3} | Train Loss: {loss:.3f} | Train Acc:'\n",
        "                  f' {acc*100:>6.2f}% | Val Loss: {val_loss:.2f} | '\n",
        "                  f'Val Acc: {val_acc*100:.2f}%')\n",
        "\n",
        "class GCN(torch.nn.Module):\n",
        "  \"\"\"Graph Convolutional Network\"\"\"\n",
        "  def __init__(self, dim_in, dim_h, dim_out):\n",
        "    super().__init__()\n",
        "    self.gcn1 = GCNConv(dim_in, dim_h)\n",
        "    self.gcn2 = GCNConv(dim_h, dim_out)\n",
        "    self.optimizer = torch.optim.Adam(self.parameters(),\n",
        "                                      lr=0.01,\n",
        "                                      weight_decay=5e-4)\n",
        "\n",
        "  def forward(self, x, edge_index):\n",
        "    h = F.dropout(x, p=0.5, training=self.training)\n",
        "    h = self.gcn1(h, edge_index).relu()\n",
        "    h = F.dropout(h, p=0.5, training=self.training)\n",
        "    h = self.gcn2(h, edge_index)\n",
        "    return F.log_softmax(h, dim=1)\n",
        "\n",
        "  def fit(self, data, epochs):\n",
        "    criterion = torch.nn.CrossEntropyLoss()\n",
        "    optimizer = self.optimizer\n",
        "\n",
        "    self.train()\n",
        "    for epoch in range(epochs+1):\n",
        "        # Training\n",
        "        optimizer.zero_grad()\n",
        "        out = self(data.x, data.edge_index)\n",
        "        loss = criterion(out[data.train_mask], data.y[data.train_mask])\n",
        "        acc = accuracy(out[data.train_mask].argmax(dim=1),\n",
        "                       data.y[data.train_mask])\n",
        "        loss.backward()\n",
        "        optimizer.step()\n",
        "\n",
        "        # Validation\n",
        "        val_loss = criterion(out[data.val_mask], data.y[data.val_mask])\n",
        "        val_acc = accuracy(out[data.val_mask].argmax(dim=1),\n",
        "                           data.y[data.val_mask])\n",
        "\n",
        "        # Print metrics every 10 epochs\n",
        "        if(epoch % 10 == 0):\n",
        "            print(f'Epoch {epoch:>3} | Train Loss: {loss:.3f} | Train Acc:'\n",
        "                  f' {acc*100:>6.2f}% | Val Loss: {val_loss:.2f} | '\n",
        "                  f'Val Acc: {val_acc*100:.2f}%')\n",
        "            \n",
        "def accuracy(pred_y, y):\n",
        "    \"\"\"Calculate accuracy.\"\"\"\n",
        "    return ((pred_y == y).sum() / len(y)).item()\n",
        "\n",
        "@torch.no_grad()\n",
        "def test(model, data):\n",
        "    \"\"\"Evaluate the model on test set and print the accuracy score.\"\"\"\n",
        "    model.eval()\n",
        "    out = model(data.x, data.edge_index)\n",
        "    acc = accuracy(out.argmax(dim=1)[data.test_mask], data.y[data.test_mask])\n",
        "    return acc"
      ],
      "metadata": {
        "id": "g0aFf1urgW5_"
      },
      "execution_count": null,
      "outputs": []
    },
    {
      "cell_type": "code",
      "source": [
        "# GraphSAGE 테스트\n",
        "\n",
        "%%time\n",
        "\n",
        "# Create GraphSAGE\n",
        "graphsage = GraphSAGE(dataset.num_features, 64, dataset.num_classes)\n",
        "print(graphsage)\n",
        "\n",
        "# Train\n",
        "graphsage.fit(data, 200)\n",
        "\n",
        "# Test\n",
        "print(f'\\nGraphSAGE test accuracy: {test(graphsage, data)*100:.2f}%\\n')"
      ],
      "metadata": {
        "id": "Md5bAhJmgcZZ"
      },
      "execution_count": null,
      "outputs": []
    },
    {
      "cell_type": "code",
      "source": [
        "# GCN 테스트\n",
        "\n",
        "%%time\n",
        "\n",
        "# Create GCN\n",
        "gcn = GCN(dataset.num_features, 64, dataset.num_classes)\n",
        "print(gcn)\n",
        "\n",
        "# Train\n",
        "gcn.fit(data, 200)\n",
        "\n",
        "# Test\n",
        "print(f'\\nGCN test accuracy: {test(gcn, data)*100:.2f}%\\n')"
      ],
      "metadata": {
        "id": "d5578VSPgxdX"
      },
      "execution_count": null,
      "outputs": []
    },
    {
      "cell_type": "code",
      "source": [
        "# GAT 테스트\n",
        "\n",
        "%%time\n",
        "\n",
        "# Create GAT\n",
        "gat = GAT(dataset.num_features, 64, dataset.num_classes)\n",
        "print(gat)\n",
        "\n",
        "# Train\n",
        "gat.fit(data, 200)\n",
        "\n",
        "# Test\n",
        "print(f'\\nGAT test accuracy: {test(gat, data)*100:.2f}%\\n')"
      ],
      "metadata": {
        "id": "CgAIFFxig4mp"
      },
      "execution_count": null,
      "outputs": []
    },
    {
      "cell_type": "code",
      "source": [],
      "metadata": {
        "id": "eWMtEeyIhBrM"
      },
      "execution_count": null,
      "outputs": []
    }
  ]
}